{
 "cells": [
  {
   "cell_type": "markdown",
   "id": "b271fda3",
   "metadata": {},
   "source": [
    "# Substitution Cipher Statistical Attack"
   ]
  },
  {
   "cell_type": "markdown",
   "id": "45bcdb3d",
   "metadata": {},
   "source": [
    "## Mahan Madani - 99222092"
   ]
  },
  {
   "cell_type": "code",
   "execution_count": 1,
   "id": "6d89b4c3",
   "metadata": {},
   "outputs": [],
   "source": [
    "#!pip install pypdf\n",
    "\n",
    "import pypdf\n",
    "import os\n",
    "import matplotlib.pyplot as plt\n",
    "import re\n",
    "import random"
   ]
  },
  {
   "cell_type": "markdown",
   "id": "8da56c19",
   "metadata": {},
   "source": [
    "Most common bigrams (in order)\n",
    "<br>th, he, in, en, nt, re, er, an, ti, es, on, at, se, nd, or, ar, al, te, co, de, to, ra, et, ed, it, sa, em, ro.\n",
    "<br>Most common trigrams (in order)\n",
    "<br>the, and, tha, ent, ing, ion, tio, for, nde, has, nce, edt, tis, oft, sth, men\n",
    "<br>Most common quadrigrams (in order)\n",
    "<br>that, ther, with, tion, here, ould, ight, have, hich, whic, this, thin, they, atio, ever, from, ough, were, hing, ment\n"
   ]
  },
  {
   "cell_type": "markdown",
   "id": "dac2dd43",
   "metadata": {},
   "source": [
    "## Step 0: Preparations and Utility Functions"
   ]
  },
  {
   "cell_type": "code",
   "execution_count": 2,
   "id": "cb1e345d",
   "metadata": {},
   "outputs": [],
   "source": [
    "english_alphabet = ['a', 'b', 'c', 'd', 'e', 'f', 'g', 'h', 'i', 'j', 'k',\n",
    "                    'l', 'm', 'n', 'o', 'p', 'q', 'r', 's', 't', 'u', 'v',\n",
    "                    'w', 'x', 'y', 'z']"
   ]
  },
  {
   "cell_type": "markdown",
   "id": "53bec157",
   "metadata": {},
   "source": [
    "**Utility function to extract text from a PDF**"
   ]
  },
  {
   "cell_type": "code",
   "execution_count": 3,
   "id": "96d5306d",
   "metadata": {},
   "outputs": [],
   "source": [
    "def extract_text(pdfname):\n",
    "    reader = pypdf.PdfReader(pdfname)\n",
    "    text = \"\"\n",
    "    for page in reader.pages:\n",
    "        page_text = page.extract_text().lower()\n",
    "        text += re.sub('[^a-z]', '', page_text)\n",
    "        \n",
    "    return text"
   ]
  },
  {
   "cell_type": "markdown",
   "id": "291fd5a1",
   "metadata": {},
   "source": [
    "**Read the texts to be used in this project from the provided files**"
   ]
  },
  {
   "cell_type": "code",
   "execution_count": 4,
   "id": "eef6577f",
   "metadata": {},
   "outputs": [],
   "source": [
    "file1_plaintext = extract_text(\"Harry Potter and the Order of the Phoenix.pdf\")\n",
    "file2_plaintext = extract_text(\"Harry Potter and the Half-Blood Prince.pdf\")"
   ]
  },
  {
   "cell_type": "markdown",
   "id": "fa6f7d52",
   "metadata": {},
   "source": [
    "**This function analyses every character in the text to find the frequency of letters, bigrams, trigrams, and quadrigrams**"
   ]
  },
  {
   "cell_type": "code",
   "execution_count": 5,
   "id": "94209de2",
   "metadata": {},
   "outputs": [],
   "source": [
    "def analyse_text(text, alphabet, bigrams, trigrams, quadrigrams):\n",
    "    for i in range(len(text)):\n",
    "        \n",
    "        if alphabet.get(text[i]) is not None:\n",
    "            alphabet[text[i]] += 1\n",
    "        \n",
    "        if bigrams.get(text[i:i+2]) is not None:\n",
    "            bigrams[text[i:i+2]] += 1\n",
    "        else:\n",
    "            bigrams.update({text[i:i+2]: 1})\n",
    "            \n",
    "        if trigrams.get(text[i:i+3]) is not None:\n",
    "            trigrams[text[i:i+3]] += 1\n",
    "        else:\n",
    "            trigrams.update({text[i:i+3]: 1})\n",
    "            \n",
    "        if quadrigrams.get(text[i:i+4]) is not None:\n",
    "            quadrigrams[text[i:i+4]] += 1\n",
    "        else:\n",
    "            quadrigrams.update({text[i:i+4]: 1})"
   ]
  },
  {
   "cell_type": "markdown",
   "id": "88e6cee1",
   "metadata": {},
   "source": [
    "**This function encrypts text based on a provided key. The Key should be a one-to-one dictionary mapping each letter of the english alphabet to another one.**"
   ]
  },
  {
   "cell_type": "code",
   "execution_count": 6,
   "id": "94e6b34f",
   "metadata": {},
   "outputs": [],
   "source": [
    "def generate_ciphertext(plaintext, secret_key):\n",
    "    cipher_text = \"\"\n",
    "    \n",
    "    for i in range(len(plaintext)):\n",
    "        cipher_text += secret_key.get(plaintext[i])\n",
    "\n",
    "    return cipher_text"
   ]
  },
  {
   "cell_type": "markdown",
   "id": "9d3cfb94",
   "metadata": {},
   "source": [
    "**Utility function for converting a dictionary to an ordered list (based on letter frequency)**"
   ]
  },
  {
   "cell_type": "code",
   "execution_count": 7,
   "id": "e166c3b0",
   "metadata": {},
   "outputs": [],
   "source": [
    "def convert_dict_to_ordered_list(dictionary):\n",
    "    keys = list(dictionary.keys())\n",
    "    values = list(dictionary.values())\n",
    "    result = []\n",
    "    \n",
    "    for i in range(len(values)):\n",
    "        result.append([keys[i], values[i]])\n",
    "        \n",
    "    result.sort(key= lambda x: x[1], reverse=True)\n",
    "    return result"
   ]
  },
  {
   "cell_type": "markdown",
   "id": "2ade0cd8",
   "metadata": {},
   "source": [
    "**The Secret Key and the cracked keys are stored as dictionaries. This utility function prints an alphabetically ordered version of the key.**"
   ]
  },
  {
   "cell_type": "code",
   "execution_count": 8,
   "id": "13cc5486",
   "metadata": {},
   "outputs": [],
   "source": [
    "def print_key(dictionary):\n",
    "    keys = list(dictionary.keys())\n",
    "    values = list(dictionary.values())\n",
    "    result = []\n",
    "    \n",
    "    for i in range(len(values)):\n",
    "        result.append([keys[i], values[i]])\n",
    "\n",
    "    result.sort(key= lambda x: x[0])\n",
    "    \n",
    "    for term in result:\n",
    "        print(f\"{term[0]} -> {term[1]}\", end=\"    \")\n",
    "    \n",
    "    print()"
   ]
  },
  {
   "cell_type": "markdown",
   "id": "7c85e0ce",
   "metadata": {},
   "source": [
    "**Utility function to compare two keys. Returns the number of differences between two keys.**"
   ]
  },
  {
   "cell_type": "code",
   "execution_count": 102,
   "id": "aae5f99d",
   "metadata": {},
   "outputs": [],
   "source": [
    "def compare_keys(key1, key2):\n",
    "    \n",
    "    diff_counter = 0\n",
    "    \n",
    "    for x in english_alphabet:\n",
    "        if key1.get(x) is None or key2.get(x) is None:\n",
    "            diff_counter += 1\n",
    "        elif key1[x] != key2[x]:\n",
    "            diff_counter += 1\n",
    "    \n",
    "    return f\"{diff_counter} differences\""
   ]
  },
  {
   "cell_type": "markdown",
   "id": "ffe097df",
   "metadata": {},
   "source": [
    "**This function deciphers text based on a key. The Inverse of the key is first calculated.**"
   ]
  },
  {
   "cell_type": "code",
   "execution_count": 121,
   "id": "ac57a8b0",
   "metadata": {},
   "outputs": [],
   "source": [
    "def decipher_text(text, key):\n",
    "    inverse_key = {}\n",
    "    for key, value in key.items():\n",
    "        inverse_key.update({value: key})\n",
    "    \n",
    "    deciphered_text = \"\"\n",
    "    \n",
    "    for i in range(len(text)):\n",
    "        deciphered_char = inverse_key.get(text[i])\n",
    "        if deciphered_char is not None:\n",
    "            deciphered_text += deciphered_char\n",
    "        else:\n",
    "            deciphered_text += text[i]\n",
    "\n",
    "    return deciphered_text"
   ]
  },
  {
   "cell_type": "markdown",
   "id": "b5a94126",
   "metadata": {},
   "source": [
    "## Step 1: Extract and Analyze the Plaintext from the First File\n",
    "In this step, the plaintext is extracted from a book and analysed. We'll use the data extracted from this book (Harry Potter and the Order of the Phoenix) to decipher the ciphertext (which is going to be Harry Potter and the Half-Blood Prince).\n",
    "<br> After finding the frequency of each letter, the frequency of every possible bigram, trigram, and quadrigam is also found. Note that only the top 20 most common combinations from each category will be used."
   ]
  },
  {
   "cell_type": "code",
   "execution_count": 10,
   "id": "63078981",
   "metadata": {},
   "outputs": [],
   "source": [
    "plain_alphabet = {english_alphabet[j]: 0 for j in range(len(english_alphabet))}\n",
    "plain_bigrams = {}\n",
    "plain_trigrams = {}\n",
    "plain_quadrigrams = {}"
   ]
  },
  {
   "cell_type": "code",
   "execution_count": 11,
   "id": "996f43a3",
   "metadata": {},
   "outputs": [],
   "source": [
    "# The text from the first file (Harry Potter and the Order of the Phoenix.pdf) is used here.\n",
    "\n",
    "analyse_text(file1_plaintext, plain_alphabet, plain_bigrams, plain_trigrams, plain_quadrigrams)\n",
    "\n",
    "plain_alphabet    = convert_dict_to_ordered_list(plain_alphabet)\n",
    "plain_bigrams     = convert_dict_to_ordered_list(plain_bigrams)\n",
    "plain_trigrams    = convert_dict_to_ordered_list(plain_trigrams)\n",
    "plain_quadrigrams = convert_dict_to_ordered_list(plain_quadrigrams)"
   ]
  },
  {
   "cell_type": "code",
   "execution_count": 12,
   "id": "07ec402e",
   "metadata": {
    "scrolled": true
   },
   "outputs": [
    {
     "data": {
      "image/png": "[encoded data removed]",
      "text/plain": [
       "<Figure size 640x480 with 1 Axes>"
      ]
     },
     "metadata": {},
     "output_type": "display_data"
    }
   ],
   "source": [
    "labels = [x[0] for x in plain_alphabet]\n",
    "values = [x[1]/len(file1_plaintext) for x in plain_alphabet]\n",
    "\n",
    "plt.bar(labels, values)\n",
    "\n",
    "# Add a title and axis labels\n",
    "plt.title(\"letter distribution\")\n",
    "plt.xlabel(\"letter\")\n",
    "plt.ylabel(\"probability\")\n",
    "\n",
    "plt.show()"
   ]
  },
  {
   "cell_type": "markdown",
   "id": "33955888",
   "metadata": {},
   "source": [
    "## Step 2: Generate Ciphertext from the Second File\n",
    "In this step, the plaintext is extracted from the second book similar to step 2. But before analysing the text, we need to encrypt it with a random key. I used the random.Shuffle() method to generate the secret key and stored it in a dictionary to easily encrypt the text.\n",
    "<br> After the ciphertext is generated, it must be analysed so the frequency of the letters, bigrams, trigrams, and quadrigrams can be found."
   ]
  },
  {
   "cell_type": "code",
   "execution_count": 13,
   "id": "9761ef88",
   "metadata": {},
   "outputs": [
    {
     "name": "stdout",
     "output_type": "stream",
     "text": [
      "Secret Key:\n",
      "a -> A    b -> H    c -> O    d -> U    e -> P    f -> R    g -> N    h -> L    i -> F    j -> G    k -> C    l -> K    m -> B    n -> D    o -> J    p -> S    q -> Z    r -> I    s -> E    t -> V    u -> M    v -> W    w -> Q    x -> T    y -> Y    z -> X    \n"
     ]
    }
   ],
   "source": [
    "secret_key = {}\n",
    "temp = english_alphabet.copy()\n",
    "random.shuffle(temp)\n",
    "\n",
    "for i in range(len(english_alphabet)):\n",
    "    secret_key.update({english_alphabet[i]: temp[i].upper()})\n",
    "\n",
    "print(\"Secret Key:\")\n",
    "print_key(secret_key)"
   ]
  },
  {
   "cell_type": "code",
   "execution_count": 14,
   "id": "6cb753b4",
   "metadata": {},
   "outputs": [],
   "source": [
    "cipher_alphabet = {english_alphabet[j].upper(): 0 for j in range(len(english_alphabet))}\n",
    "cipher_bigrams = {}\n",
    "cipher_trigrams = {}\n",
    "cipher_quadrigrams = {}"
   ]
  },
  {
   "cell_type": "code",
   "execution_count": 15,
   "id": "cc99c7e1",
   "metadata": {},
   "outputs": [],
   "source": [
    "cipher_text = generate_ciphertext(file2_plaintext, secret_key)\n",
    "analyse_text(cipher_text, cipher_alphabet, cipher_bigrams, cipher_trigrams, cipher_quadrigrams)\n",
    "\n",
    "cipher_alphabet    = convert_dict_to_ordered_list(cipher_alphabet)\n",
    "cipher_bigrams     = convert_dict_to_ordered_list(cipher_bigrams)\n",
    "cipher_trigrams    = convert_dict_to_ordered_list(cipher_trigrams)\n",
    "cipher_quadrigrams = convert_dict_to_ordered_list(cipher_quadrigrams)"
   ]
  },
  {
   "cell_type": "code",
   "execution_count": 16,
   "id": "3b64fbc5",
   "metadata": {},
   "outputs": [
    {
     "data": {
      "image/png": "[encoded data removed]",
      "text/plain": [
       "<Figure size 640x480 with 1 Axes>"
      ]
     },
     "metadata": {},
     "output_type": "display_data"
    }
   ],
   "source": [
    "labels = [x[0] for x in cipher_alphabet]\n",
    "values = [x[1]/len(cipher_text) for x in cipher_alphabet]\n",
    "\n",
    "plt.bar(labels, values)\n",
    "\n",
    "# Add a title and axis labels\n",
    "plt.title(\"letter distribution\")\n",
    "plt.xlabel(\"letter\")\n",
    "plt.ylabel(\"probability\")\n",
    "\n",
    "plt.show()"
   ]
  },
  {
   "cell_type": "markdown",
   "id": "09e5e98c",
   "metadata": {},
   "source": [
    "## Step 3: Find The Key\n",
    "Using the method discussed in class, we'll use the frequency of each plaintext letter to find its corresponding letter from the ciphertext. For Instance, the most common letter in the english alphabet is almsot always 'e', so the most common letter in ciphertext will correspond to 'e'. We can find the key using this method, although the resulting key needs to be manually checked to ensure it's correct."
   ]
  },
  {
   "cell_type": "markdown",
   "id": "061ec573",
   "metadata": {},
   "source": [
    "### Find The Key Based On Letter Frequency"
   ]
  },
  {
   "cell_type": "code",
   "execution_count": 116,
   "id": "3bf0e3dd",
   "metadata": {},
   "outputs": [
    {
     "name": "stdout",
     "output_type": "stream",
     "text": [
      "Cracked Key - 1:\n",
      "a -> A    b -> H    c -> O    d -> U    e -> P    f -> R    g -> B    h -> L    i -> F    j -> T    k -> C    l -> K    m -> Q    n -> D    o -> J    p -> S    q -> X    r -> I    s -> E    t -> V    u -> M    v -> W    w -> N    x -> G    y -> Y    z -> Z    \n",
      "\n",
      "Secret Key:\n",
      "a -> A    b -> H    c -> O    d -> U    e -> P    f -> R    g -> N    h -> L    i -> F    j -> G    k -> C    l -> K    m -> B    n -> D    o -> J    p -> S    q -> Z    r -> I    s -> E    t -> V    u -> M    v -> W    w -> Q    x -> T    y -> Y    z -> X    \n",
      "\n",
      "7 differences\n"
     ]
    }
   ],
   "source": [
    "cracked_key_1 = {}\n",
    "\n",
    "for a, b in zip(plain_alphabet, cipher_alphabet):\n",
    "    cracked_key_1.update({a[0]: b[0]})\n",
    "\n",
    "print(\"Cracked Key - 1:\")\n",
    "print_key(cracked_key_1)\n",
    "\n",
    "print(\"\\nSecret Key:\")\n",
    "print_key(secret_key)\n",
    "\n",
    "print(\"\\n\" + compare_keys(cracked_key_1, secret_key))"
   ]
  },
  {
   "cell_type": "markdown",
   "id": "cfcb6310",
   "metadata": {},
   "source": [
    "Looking at the results, we got **19** letters right and **7** letters wrong. Utilizing bigrams, trigrams, and quadrigrams, we might be able to get better results.\n",
    "<br> Here's an example of a small section of the ciphertext decrypted by this key:"
   ]
  },
  {
   "cell_type": "code",
   "execution_count": 112,
   "id": "c532e9bd",
   "metadata": {},
   "outputs": [
    {
     "name": "stdout",
     "output_type": "stream",
     "text": [
      "elvesilverandopalsthirteenthesecretriddlefourteenfelixfelicisfifteentheunbreakablevowsixteenaveryfros\n",
      "elvesilverandopalsthirteenthesecretriddlefourteenfelijfelicisfifteentheunbreakablevomsijteenaveryfros\n"
     ]
    }
   ],
   "source": [
    "c = decipher_text(cipher_text[1100:1201], cracked_key_1)\n",
    "p = file2_plaintext[1100:1201]\n",
    "print(p)\n",
    "print(c)"
   ]
  },
  {
   "cell_type": "markdown",
   "id": "0e5d55d3",
   "metadata": {},
   "source": [
    "### Find The Key Based On All Available Data (Letters, Bigrams, Trigrams, Quadrigrams)"
   ]
  },
  {
   "cell_type": "code",
   "execution_count": 95,
   "id": "70fb0a8a",
   "metadata": {},
   "outputs": [
    {
     "name": "stdout",
     "output_type": "stream",
     "text": [
      "20 Most common bigrams:\n",
      "an -> AD    ar -> DN    at -> JI    ea -> DU    ed -> PU    er -> PI    es -> JD    ha -> LA    he -> VL    hi -> DV    in -> FD    nd -> PA    ng -> JM    nt -> EV    on -> PE    ou -> AI    re -> IP    st -> AV    th -> LP    to -> VJ    \n",
      "\n",
      "20 Most common trigrams:\n",
      "aid -> AFU    and -> ADU    arr -> LAV    ent -> VLF    ere -> YJM    har -> LAI    hat -> PIP    her -> LPI    hes -> VVL    his -> LFE    ing -> FDN    nth -> PDV    rry -> IIY    sai -> QAE    she -> DVL    tha -> VLA    the -> VLP    thi -> PVL    was -> EAF    you -> AII    \n",
      "\n",
      "20 Most common quadrigrams:\n",
      "arry -> AIIY    dthe -> UVLP    ethe -> PVLP    fthe -> KPUJ    harr -> LAII    here -> QFVL    ight -> JVLP    inga -> HKPU    ingt -> VVLP    nthe -> DVLP    ofth -> VLPB    othe -> JMKU    said -> EAFU    that -> VLAV    them -> VLFD    ther -> VLPI    thes -> BHKP    thin -> FNLV    tthe -> LPIP    with -> FDNV    \n"
     ]
    }
   ],
   "source": [
    "num = 20\n",
    "\n",
    "bigram_key = {}\n",
    "for i in range(num):\n",
    "    a, b = plain_bigrams[i], cipher_bigrams[i]\n",
    "    bigram_key.update({a[0]: b[0]})\n",
    "\n",
    "trigram_key = {}\n",
    "for i in range(num):\n",
    "    a, b = plain_trigrams[i], cipher_trigrams[i]\n",
    "    trigram_key.update({a[0]: b[0]})\n",
    "\n",
    "quadrigram_key = {}\n",
    "for i in range(num):\n",
    "    a, b = plain_quadrigrams[i], cipher_quadrigrams[i]\n",
    "    quadrigram_key.update({a[0]: b[0]})\n",
    "    \n",
    "\n",
    "print(f\"{num} Most common bigrams:\")\n",
    "print_key(bigram_key)\n",
    "print(f\"\\n{num} Most common trigrams:\")\n",
    "print_key(trigram_key)\n",
    "print(f\"\\n{num} Most common quadrigrams:\")\n",
    "print_key(quadrigram_key)"
   ]
  },
  {
   "cell_type": "markdown",
   "id": "d258f8e2",
   "metadata": {},
   "source": [
    "Looking at the results, both the bigrams and trigrams seem to be inaccurate as even in the top 20 most repeated values, there are several inconsistent results. For example, in \"ea -> DU\" and \"ed -> PU\", \"e\" is mapped to both \"D\" and \"P\", while \"a\" and \"d\" are both mapped to \"U\". The Quadrigrams seem to be much more consistent."
   ]
  },
  {
   "cell_type": "code",
   "execution_count": 123,
   "id": "2c6f0fa3",
   "metadata": {},
   "outputs": [
    {
     "name": "stdout",
     "output_type": "stream",
     "text": [
      "a -> A    d -> U    e -> P    f -> K    h -> L    i -> F    n -> D    o -> J    r -> I    s -> E    t -> V    y -> Y    \n"
     ]
    }
   ],
   "source": [
    "cracked_key_2 = {}\n",
    "\n",
    "for key, value in zip(quadrigram_key.keys(), quadrigram_key.values()):\n",
    "    for i in range(4):\n",
    "        if key[i] not in cracked_key_2.keys() and value[i] not in cracked_key_2.values():\n",
    "            cracked_key_2.update({key[i]: value[i]})\n",
    "            \n",
    "print_key(cracked_key_2)"
   ]
  },
  {
   "cell_type": "markdown",
   "id": "bdbc1683",
   "metadata": {},
   "source": [
    "Based on the 20 most common quadrigrams, these letters are mapped. We'll use the single letter frequencies to find the rest of the key."
   ]
  },
  {
   "cell_type": "code",
   "execution_count": 124,
   "id": "ed43ff14",
   "metadata": {},
   "outputs": [
    {
     "name": "stdout",
     "output_type": "stream",
     "text": [
      "Cracked Key - 2:\n",
      "a -> A    b -> H    c -> O    d -> U    e -> P    f -> K    g -> B    h -> L    i -> F    j -> T    k -> C    m -> Q    n -> D    o -> J    p -> S    q -> X    r -> I    s -> E    t -> V    u -> M    v -> W    w -> N    x -> G    y -> Y    z -> Z    \n",
      "\n",
      "Secret Key:\n",
      "a -> A    b -> H    c -> O    d -> U    e -> P    f -> R    g -> N    h -> L    i -> F    j -> G    k -> C    l -> K    m -> B    n -> D    o -> J    p -> S    q -> Z    r -> I    s -> E    t -> V    u -> M    v -> W    w -> Q    x -> T    y -> Y    z -> X    \n",
      "\n",
      "9 differences\n"
     ]
    }
   ],
   "source": [
    "for a, b in zip(plain_alphabet, cipher_alphabet):\n",
    "    if a[0] not in cracked_key_2.keys() and b[0] not in cracked_key_2.values():\n",
    "        cracked_key_2.update({a[0]: b[0]})\n",
    "        \n",
    "print(\"Cracked Key - 2:\")\n",
    "print_key(cracked_key_2)\n",
    "\n",
    "print(\"\\nSecret Key:\")\n",
    "print_key(secret_key)\n",
    "\n",
    "print(\"\\n\" + compare_keys(cracked_key_2, secret_key))"
   ]
  },
  {
   "cell_type": "markdown",
   "id": "d487af9a",
   "metadata": {},
   "source": [
    "Looking at the results, we got **17** letters right and **9** letters wrong.\n",
    "<br> Here's an example of a small section of the ciphertext decrypted by this key:"
   ]
  },
  {
   "cell_type": "code",
   "execution_count": 125,
   "id": "41608aea",
   "metadata": {},
   "outputs": [
    {
     "name": "stdout",
     "output_type": "stream",
     "text": [
      "elvesilverandopalsthirteenthesecretriddlefourteenfelixfelicisfifteentheunbreakablevowsixteenaveryfros\n",
      "efvesifverandopafsthirteenthesecretriddfeRourteenRefijReficisRiRteentheunbreakabfevomsijteenaveryRros\n"
     ]
    }
   ],
   "source": [
    "c = decipher_text(cipher_text[1100:1201], cracked_key_2)\n",
    "p = file2_plaintext[1100:1201]\n",
    "print(p)\n",
    "print(c)"
   ]
  },
  {
   "cell_type": "markdown",
   "id": "ef2fbb70",
   "metadata": {},
   "source": [
    "**Important Note**\n",
    "<br> Most of the incorrect mappings are the ones mapping an uncommon letter in the english alphabet, such as x, q, or j. Finding trigrams or quadrigrams containing these letters is also a rare event and heavily depends on the text that is being deciphered. <br>Ultimately, even with the 20 most common letters correctly substituted, we are able to understand the deciphered text almost as good as the actual plaintext. Finding a more accurate key requires a human familiar with the language to manually analyse the text and try different mappings for the uncommon letters."
   ]
  },
  {
   "cell_type": "code",
   "execution_count": null,
   "id": "12161680",
   "metadata": {},
   "outputs": [],
   "source": []
  }
 ],
 "metadata": {
  "kernelspec": {
   "display_name": "Python 3 (ipykernel)",
   "language": "python",
   "name": "python3"
  },
  "language_info": {
   "codemirror_mode": {
    "name": "ipython",
    "version": 3
   },
   "file_extension": ".py",
   "mimetype": "text/x-python",
   "name": "python",
   "nbconvert_exporter": "python",
   "pygments_lexer": "ipython3",
   "version": "3.10.4"
  }
 },
 "nbformat": 4,
 "nbformat_minor": 5
}
